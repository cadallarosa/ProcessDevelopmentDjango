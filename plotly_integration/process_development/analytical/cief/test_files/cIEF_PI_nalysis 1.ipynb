{
 "cells": [
  {
   "cell_type": "code",
   "execution_count": 1,
   "id": "e28a27a6",
   "metadata": {},
   "outputs": [],
   "source": [
    "import os\n",
    "import pandas as pd\n",
    "import tabula\n",
    "import numpy as np\n",
    "from sklearn.linear_model import LinearRegression\n",
    "import matplotlib.pyplot as plt"
   ]
  },
  {
   "cell_type": "markdown",
   "id": "d0420255",
   "metadata": {},
   "source": [
    "Check working directory"
   ]
  },
  {
   "cell_type": "code",
   "execution_count": 2,
   "id": "912bd4f1",
   "metadata": {},
   "outputs": [],
   "source": [
    "os.chdir(os.getcwd())"
   ]
  },
  {
   "cell_type": "markdown",
   "id": "2d5c9679",
   "metadata": {},
   "source": [
    "Define input and output paths "
   ]
  },
  {
   "cell_type": "code",
   "execution_count": 3,
   "id": "7510a3b0",
   "metadata": {},
   "outputs": [],
   "source": [
    "input_paths = [file for file in os.listdir() if file.endswith(\".pdf\")]\n",
    "output_paths = input_paths.copy()\n",
    "for i in range(len(output_paths)): output_paths[i] = output_paths[i].replace(\"pdf\", \"csv\")"
   ]
  },
  {
   "cell_type": "markdown",
   "id": "324d940c",
   "metadata": {},
   "source": [
    "Low and high bound on data"
   ]
  },
  {
   "cell_type": "code",
   "execution_count": 4,
   "id": "80f9d072",
   "metadata": {},
   "outputs": [],
   "source": [
    "LB = 25\n",
    "HB = 30"
   ]
  },
  {
   "cell_type": "markdown",
   "id": "29ec2066",
   "metadata": {},
   "source": [
    "PIs calculated"
   ]
  },
  {
   "cell_type": "code",
   "execution_count": 9,
   "id": "add7628a",
   "metadata": {
    "scrolled": false
   },
   "outputs": [
    {
     "data": {
      "image/png": "[encoded data removed]",
      "text/plain": [
       "<Figure size 432x288 with 1 Axes>"
      ]
     },
     "metadata": {
      "needs_background": "light"
     },
     "output_type": "display_data"
    },
    {
     "name": "stdout",
     "output_type": "stream",
     "text": [
      "572 9-15-2022 2-31-17 PM_Method Report.csv\n",
      "R-squared:  0.9984300805801811\n",
      "    Unnamed: 0    Time    Area  Area %  Height  Height %  \\\n",
      "2            3  26.283    5811    0.27    1368      0.32   \n",
      "3            4  26.600  204968    9.66   37970      8.88   \n",
      "4            5  26.683  491679   23.18   72311     16.92   \n",
      "5            6  26.775  201791    9.51   45762     10.71   \n",
      "6            7  27.000   72577    3.42   16597      3.88   \n",
      "7            8  27.075  169273    7.98   21290      4.98   \n",
      "8            9  27.217   44731    2.11    8015      1.88   \n",
      "9           10  27.433   34956    1.65   10157      2.38   \n",
      "10          11  27.500   33670    1.59    3952      0.92   \n",
      "11          12  27.883    9236    0.44    2145      0.50   \n",
      "\n",
      "                        PI  \n",
      "2    [[7.263236679671836]]  \n",
      "3    [[7.154846640089463]]  \n",
      "4    [[7.126466913637296]]  \n",
      "5   [[7.0950098674493525]]  \n",
      "6    [[7.018076874054923]]  \n",
      "7    [[6.992432542923446]]  \n",
      "8    [[6.943879275981184]]  \n",
      "9    [[6.870023602322531]]  \n",
      "10   [[6.847114666511747]]  \n",
      "11   [[6.716157615533673]]  \n"
     ]
    },
    {
     "data": {
      "image/png": "[encoded data removed]",
      "text/plain": [
       "<Figure size 432x288 with 1 Axes>"
      ]
     },
     "metadata": {
      "needs_background": "light"
     },
     "output_type": "display_data"
    },
    {
     "name": "stdout",
     "output_type": "stream",
     "text": [
      "573 9-15-2022 3-29-15 PM_Method Report.csv\n",
      "R-squared:  0.998532783179196\n",
      "    Unnamed: 0    Time    Area  Area %  Height  Height %  \\\n",
      "2            3  26.317    4421    0.20    1093      0.25   \n",
      "3            4  26.633  211358    9.43   40799      9.49   \n",
      "4            5  26.725  611959   27.29   76381     17.77   \n",
      "5            6  26.833  202878    9.05   45041     10.48   \n",
      "6            7  27.067   72931    3.25   15846      3.69   \n",
      "7            8  27.150  174399    7.78   20825      4.84   \n",
      "8            9  27.300   36971    1.65    7293      1.70   \n",
      "9           10  27.508   32306    1.44    9367      2.18   \n",
      "10          11  27.575   30553    1.36    3698      0.86   \n",
      "11          12  27.958    8206    0.37    1949      0.45   \n",
      "\n",
      "                        PI  \n",
      "2    [[7.267023893209188]]  \n",
      "3      [[7.1596730242393]]  \n",
      "4    [[7.128418973779711]]  \n",
      "5    [[7.091729436283675]]  \n",
      "6    [[7.012235438375592]]  \n",
      "7   [[6.9840388493740075]]  \n",
      "8    [[6.933081158407289]]  \n",
      "9    [[6.862419826933438]]  \n",
      "10   [[6.839658724968302]]  \n",
      "11    [[6.70954675403328]]  \n"
     ]
    },
    {
     "data": {
      "image/png": "[encoded data removed]",
      "text/plain": [
       "<Figure size 432x288 with 1 Axes>"
      ]
     },
     "metadata": {
      "needs_background": "light"
     },
     "output_type": "display_data"
    },
    {
     "name": "stdout",
     "output_type": "stream",
     "text": [
      "574 9-15-2022 4-27-12 PM_Method Report.csv\n",
      "R-squared:  0.998505544128863\n",
      "    Unnamed: 0    Time    Area  Area %  Height  Height %  \\\n",
      "2            3  26.258    4282    0.20    1056      0.25   \n",
      "3            4  26.575  188215    8.92   39292      9.35   \n",
      "4            5  26.658  540833   25.63   75332     17.92   \n",
      "5            6  26.750  209573    9.93   45358     10.79   \n",
      "6            7  26.975   64070    3.04   14474      3.44   \n",
      "7            8  27.058  159708    7.57   20162      4.80   \n",
      "8            9  27.208   34352    1.63    6940      1.65   \n",
      "9           10  27.417   59328    2.81    8622      2.05   \n",
      "10          11  27.867    7056    0.33    1772      0.42   \n",
      "\n",
      "                       PI  \n",
      "2   [[7.260171175320039]]  \n",
      "3   [[7.152308533564179]]  \n",
      "4   [[7.124066895501917]]  \n",
      "5   [[7.092762911143751]]  \n",
      "6   [[7.016204253746057]]  \n",
      "7   [[6.987962615683797]]  \n",
      "8   [[6.936923510752003]]  \n",
      "9   [[6.865809024547033]]  \n",
      "10  [[6.712691709751647]]  \n"
     ]
    },
    {
     "data": {
      "text/plain": [
       "array([7.12646691, 7.12841897, 7.1240669 ])"
      ]
     },
     "execution_count": 9,
     "metadata": {},
     "output_type": "execute_result"
    }
   ],
   "source": [
    "PI = []\n",
    "for path in output_paths:\n",
    "    #read csv and select for stardards peaks\n",
    "    df = pd.read_csv(path, header=0)\n",
    "    df = df[(df['Time']<LB)|(df['Time']>HB)]\n",
    "    \n",
    "    #sort for highest peaks and assign PIs on the standards\n",
    "    df = df.sort_values(\"Height %\", ascending=False)[0:4]\n",
    "    df = df.sort_values(\"Time\")[\"Time\"]\n",
    "    df1 = pd.DataFrame({\"Time\":df.values, \"pH\":np.array([10.0, 9.5, 5.5, 4.4])})\n",
    "    \n",
    "    #build and display linear regression\n",
    "    X = df1.iloc[:, 0].values.reshape(-1, 1)  # values converts it into a numpy array\n",
    "    Y = df1.iloc[:, 1].values.reshape(-1, 1)  # -1 means that calculate the dimension of rows, but have 1 column\n",
    "    linear_regressor = LinearRegression()  # create object for the class\n",
    "    linear_regressor.fit(X, Y)  # perform linear regression\n",
    "    Y_pred = linear_regressor.predict(X)  # make predictions\n",
    "    plt.scatter(X, Y)\n",
    "    plt.plot(X, Y_pred, color='red')\n",
    "    plt.show()\n",
    "    print(path)\n",
    "    print(\"R-squared: \", linear_regressor.score(X,Y))\n",
    "    \n",
    "    #Reset the csv and select for the sample peaks\n",
    "    df = pd.read_csv(path, header=0)\n",
    "    df = df[(df['Time']>LB) & (df['Time']<HB)]\n",
    "    df[\"PI\"] = df['Time'].apply(lambda x: x*linear_regressor.coef_ + linear_regressor.intercept_)\n",
    "    print(df)\n",
    "    #df['Time'][df['Height']==df['Height'].max()]\n",
    "    \n",
    "    #PI prediction\n",
    "    PI = np.append(PI, (df['Time'][df['Height']==df['Height'].max()].values*linear_regressor.coef_ + linear_regressor.intercept_))\n",
    "PI\n"
   ]
  },
  {
   "cell_type": "code",
   "execution_count": null,
   "id": "49f75091",
   "metadata": {},
   "outputs": [],
   "source": [
    "out =  pd.DataFrame({\"run\":output_paths, \"PI\": PI})\n",
    "out\n"
   ]
  },
  {
   "cell_type": "code",
   "execution_count": null,
   "id": "7af54079",
   "metadata": {},
   "outputs": [],
   "source": [
    "out.to_csv(\"PI.csv\")"
   ]
  },
  {
   "cell_type": "code",
   "execution_count": null,
   "id": "698d62f7",
   "metadata": {},
   "outputs": [],
   "source": []
  },
  {
   "cell_type": "code",
   "execution_count": null,
   "id": "5beed6bb",
   "metadata": {},
   "outputs": [],
   "source": []
  }
 ],
 "metadata": {
  "kernelspec": {
   "display_name": "Python 3 (ipykernel)",
   "language": "python",
   "name": "python3"
  },
  "language_info": {
   "codemirror_mode": {
    "name": "ipython",
    "version": 3
   },
   "file_extension": ".py",
   "mimetype": "text/x-python",
   "name": "python",
   "nbconvert_exporter": "python",
   "pygments_lexer": "ipython3",
   "version": "3.9.12"
  }
 },
 "nbformat": 4,
 "nbformat_minor": 5
}
