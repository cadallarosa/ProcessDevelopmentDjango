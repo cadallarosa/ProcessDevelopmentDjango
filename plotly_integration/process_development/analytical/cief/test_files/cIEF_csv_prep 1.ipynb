{
 "cells": [
  {
   "cell_type": "code",
   "execution_count": 1,
   "id": "e28a27a6",
   "metadata": {},
   "outputs": [],
   "source": [
    "import os\n",
    "import pandas as pd\n",
    "import tabula\n",
    "import numpy as np\n",
    "from sklearn.linear_model import LinearRegression"
   ]
  },
  {
   "cell_type": "markdown",
   "id": "d0420255",
   "metadata": {},
   "source": [
    "Check working directory"
   ]
  },
  {
   "cell_type": "code",
   "execution_count": 2,
   "id": "912bd4f1",
   "metadata": {},
   "outputs": [],
   "source": [
    "os.chdir(os.getcwd())"
   ]
  },
  {
   "cell_type": "markdown",
   "id": "2d5c9679",
   "metadata": {},
   "source": [
    "Define input and output paths "
   ]
  },
  {
   "cell_type": "code",
   "execution_count": 3,
   "id": "7510a3b0",
   "metadata": {},
   "outputs": [],
   "source": [
    "input_paths = [file for file in os.listdir() if file.endswith(\".pdf\")]\n",
    "output_paths = input_paths.copy()\n",
    "for i in range(len(output_paths)): output_paths[i] = output_paths[i].replace(\"pdf\", \"csv\")"
   ]
  },
  {
   "cell_type": "markdown",
   "id": "05dd9b01",
   "metadata": {},
   "source": [
    "Generate CSVs"
   ]
  },
  {
   "cell_type": "code",
   "execution_count": 4,
   "id": "11dbf961",
   "metadata": {},
   "outputs": [],
   "source": [
    "for path in input_paths:\n",
    "    tabula.convert_into(path, output_paths[input_paths.index(path)], output_format=\"csv\", pages=\"all\", stream=True)"
   ]
  },
  {
   "cell_type": "markdown",
   "id": "66fcc517",
   "metadata": {},
   "source": [
    "csv = pd.read_csv(\"554.txt\", delim_whitespace=True)\n",
    "csv.to_csv(\"554.csv\")"
   ]
  },
  {
   "cell_type": "markdown",
   "id": "c0dd9a65",
   "metadata": {},
   "source": [
    "Edit CSVs"
   ]
  },
  {
   "cell_type": "code",
   "execution_count": 5,
   "id": "b31eb8fd",
   "metadata": {
    "scrolled": true
   },
   "outputs": [],
   "source": [
    "for path in output_paths:\n",
    "    df = pd.read_csv(path, header=2)\n",
    "    df = df[df[df.keys()[0]].notna()]\n",
    "    df = df[df[\"Area %\"].notna()]\n",
    "    df = df[df[\"Height\"].notna()]\n",
    "    df.index = range(1, len(df.index)+1)\n",
    "    df['Area %'] = df['Area %'].astype(str).astype(float)\n",
    "    df.to_csv(path)"
   ]
  },
  {
   "cell_type": "code",
   "execution_count": null,
   "id": "251ba89e",
   "metadata": {},
   "outputs": [],
   "source": []
  }
 ],
 "metadata": {
  "kernelspec": {
   "display_name": "Python 3 (ipykernel)",
   "language": "python",
   "name": "python3"
  },
  "language_info": {
   "codemirror_mode": {
    "name": "ipython",
    "version": 3
   },
   "file_extension": ".py",
   "mimetype": "text/x-python",
   "name": "python",
   "nbconvert_exporter": "python",
   "pygments_lexer": "ipython3",
   "version": "3.9.12"
  }
 },
 "nbformat": 4,
 "nbformat_minor": 5
}
